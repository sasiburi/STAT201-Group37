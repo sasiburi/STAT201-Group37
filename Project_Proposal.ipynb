{
 "cells": [
  {
   "cell_type": "markdown",
   "id": "e1b95870-2c45-46e7-b88d-18b102675394",
   "metadata": {},
   "source": [
    "# STAT 201 Project Proposal: Violent Crime Incidents in three Vancouver Neighbourhoods\n",
    "\n",
    "### Group 37: Elias Khan, Beren Sun, Elaine Zhou, Nika Martinussen\n",
    "\n",
    "## Introduction\n",
    "\n",
    "Understanding how crime incidences vary by geographic region is an ongoing area of study by researchers. This report looks at the incidence of violent crime activity within different communities of Vancouver, a populous city in British Columbia, Canada.\n",
    "\n",
    "An examination of violent crimes in Vancouver in 1996, found that the highest rates of violent crimes were concentrated in the Downtown Eastside and surrounding neighbourhoods, with violent crime rates decreasing as one moved further away from this epicenter (Andreson, 2017). Further, between 2001 and 2008 in Vancouver, geographic hotspots for violent trauma incidents were identified to be the Downtown and Downtown Eastside neighbourhoods (Walker et. al., 2014).\n",
    "\n",
    "In this report, we are seeking to answer the question: between Point Grey, Kitsilano, and the Central Business District, how does geographic location affect violent crime incidents?\n",
    "\n",
    "To answer this question, we will use the Vancouver Crime Dataset released by Vancouver Police Department (VPD) as the sample. The dataset describes the type of crime, along with the location and time that the crime occurred, across ten variables.\n",
    "\n",
    "We will be calculating two quantities of interest to answer this question: the median yearly proportion of violent crime in each neighbourhood between the years of 2003 - 2021, and the mean yearly count of violent crime in each neighbourhood between the years of 2003 - 2021."
   ]
  },
  {
   "cell_type": "markdown",
   "id": "4829207c-9f22-44eb-baeb-1ee12685c73a",
   "metadata": {},
   "source": [
    "## Methods\n",
    "\n",
    "The first parameter that we are going to calculate is the yearly proportion of violent crimes across three Vancouver neighbourhoods, West Point Grey, Kitsilano, and the Central Business District."
   ]
  },
  {
   "cell_type": "code",
   "execution_count": null,
   "id": "dd27d1aa-ae68-498c-8ecb-fbf873176b6c",
   "metadata": {},
   "outputs": [],
   "source": [
    "library(tidyverse)\n",
    "\n",
    "#Load and read data\n",
    "\n",
    "crime_all_years <- read_csv(\"https://raw.githubusercontent.com/sasiburi/STAT201-Group37/main/crimedata_csv_AllYears.csv\") %>%\n",
    "  filter(!is.na(NEIGHBOURHOOD))"
   ]
  },
  {
   "cell_type": "code",
   "execution_count": null,
   "id": "42a0e405-3736-453f-a2cc-3f68bd4d8fb6",
   "metadata": {},
   "outputs": [],
   "source": [
    "#Filter and process data\n",
    "\n",
    "violent_crime_years <- crime_all_years %>%\n",
    "    mutate(Violent = ifelse((TYPE != \"Offence Against a Person\" & TYPE != \"Homicide\"), FALSE, TRUE)) %>%\n",
    "    select(Violent, YEAR, NEIGHBOURHOOD) %>%\n",
    "    filter(YEAR != 2022)"
   ]
  },
  {
   "cell_type": "code",
   "execution_count": null,
   "id": "0d8ff080-4576-4b5d-8264-b2d89cc9a5a8",
   "metadata": {},
   "outputs": [],
   "source": [
    "#Calculate proportion of violent crimes for each neighbourhood for each year\n",
    "\n",
    "crime_proportions <- violent_crime_years %>%\n",
    "              group_by(YEAR, NEIGHBOURHOOD) %>%\n",
    "              summarize(Violent_Crime_Proportion = sum(Violent == TRUE)/n())"
   ]
  },
  {
   "cell_type": "code",
   "execution_count": null,
   "id": "10cc38fd-1528-4601-8984-1c3fbd9713e2",
   "metadata": {},
   "outputs": [],
   "source": [
    "#Create plots of sampling distributions\n",
    "\n",
    "Point_Grey_Prop <- crime_proportions %>%\n",
    "  filter(NEIGHBOURHOOD == \"West Point Grey\") %>%\n",
    "  ggplot(aes(x = Violent_Crime_Proportion)) +\n",
    "  geom_histogram(binwidth = 0.005, colour = \"white\") +\n",
    "    xlab(\"Proportion of Reported Violent Crimes\") +\n",
    "    ggtitle(\"Sampling Distribution of the Proportion of Reported Violent Crimes in West Point Grey\")\n",
    "\n",
    "Kitsilano_Prop <- crime_proportions %>%\n",
    "  filter(NEIGHBOURHOOD == \"Kitsilano\") %>%\n",
    "  ggplot(aes(x = Violent_Crime_Proportion)) +\n",
    "  geom_histogram(binwidth = 0.0025, colour = \"white\") +\n",
    "    xlab(\"Proportion of Reported Violent Crimes\") +\n",
    "    ggtitle(\"Sampling Distribution of the Proportion of Reported Violent Crimes in Kitsilano\")\n",
    "\n",
    "CBD_Prop <- crime_proportions %>%\n",
    "  filter(NEIGHBOURHOOD == \"Central Business District\") %>%\n",
    "  ggplot(aes(x = Violent_Crime_Proportion)) +\n",
    "  geom_histogram(binwidth = 0.005, colour = \"white\") +\n",
    "    xlab(\"Proportion of Reported Violent Crimes\") +\n",
    "    ggtitle(\"Sampling Distribution of the Proportion of Reported Violent Crimes in the Central Business District\")"
   ]
  },
  {
   "cell_type": "code",
   "execution_count": null,
   "id": "44801805-6cb1-4327-84ca-32cf2aa22865",
   "metadata": {},
   "outputs": [],
   "source": [
    "Point_Grey_Prop"
   ]
  },
  {
   "cell_type": "code",
   "execution_count": null,
   "id": "e01cd96b-efb0-4e28-bfe6-188d79a5f863",
   "metadata": {},
   "outputs": [],
   "source": [
    "Kitsilano_Prop"
   ]
  },
  {
   "cell_type": "code",
   "execution_count": null,
   "id": "e0ab5c35-31a2-4cb3-bbb6-225853304b78",
   "metadata": {},
   "outputs": [],
   "source": [
    "CBD_Prop"
   ]
  },
  {
   "cell_type": "code",
   "execution_count": null,
   "id": "01ebab07-7c15-434d-82e5-93d23362f8d1",
   "metadata": {},
   "outputs": [],
   "source": [
    "#Calculate median proportion of violent crime for each neighbourhood\n",
    "\n",
    "median_violent_crime_proportions <- crime_proportions %>%\n",
    "    group_by(NEIGHBOURHOOD) %>%\n",
    "    summarize(Median_Proportion = median(Violent_Crime_Proportion))\n",
    "\n",
    "#Create a visualization\n",
    "\n",
    "Crime_median_proportion_plot<- median_violent_crime_proportions %>%\n",
    "             ggplot(aes(x = reorder(NEIGHBOURHOOD, -Median_Proportion), y = Median_Proportion)) +\n",
    "             geom_bar(stat = 'identity') +\n",
    "             xlab(\"Neighourhood\") +\n",
    "             ylab(\"Median Proportion of Violent Crimes per Year from 2003 - 2021\") +\n",
    "             ggtitle(\"Comparison of the median proportion of violent crimes per year in Vancouver neighbourhoods between 2003 and 2021\") +\n",
    "             coord_flip()"
   ]
  },
  {
   "cell_type": "code",
   "execution_count": null,
   "id": "48db4529-7877-4256-a81c-3a55fab67da8",
   "metadata": {},
   "outputs": [],
   "source": [
    "Crime_median_proportion_plot"
   ]
  },
  {
   "cell_type": "code",
   "execution_count": null,
   "id": "09759648-a57b-4caa-8a0d-2e920208443a",
   "metadata": {},
   "outputs": [],
   "source": [
    "median_violent_crime_proportions"
   ]
  },
  {
   "cell_type": "markdown",
   "id": "c70edf9c-7a63-4007-b483-60de65e426af",
   "metadata": {},
   "source": [
    "The second parameter that we are going to calculate is the mean yearly amount of violent crimes across three Vancouver neighbourhoods, West Point Grey, Kitsilano, and the Central Business District."
   ]
  },
  {
   "cell_type": "code",
   "execution_count": null,
   "id": "83ba8ee2-d6a8-4df0-ae68-8f7d762fbe1f",
   "metadata": {},
   "outputs": [],
   "source": [
    "#Sum amount of violent crimes for each neighbourhood for each year\n",
    "\n",
    "violent_crime_sum <- violent_crime_years %>%\n",
    "    group_by(YEAR, NEIGHBOURHOOD) %>%\n",
    "    summarize(Violent_Crime_Incidents = sum(Violent == TRUE))\n",
    "\n",
    "#Calculate mean of violent crimes per year in each neighbourhood\n",
    "\n",
    "violent_crime_mean <- violent_crime_sum %>%\n",
    "    group_by(NEIGHBOURHOOD) %>%\n",
    "    summarize(Mean = mean(Violent_Crime_Incidents))"
   ]
  },
  {
   "cell_type": "code",
   "execution_count": null,
   "id": "b28465bf-c1a4-48a0-9c09-7dee32450475",
   "metadata": {},
   "outputs": [],
   "source": [
    "#Create plots of sampling distributions\n",
    "\n",
    "Point_Grey <- violent_crime_sum %>%\n",
    "  filter(NEIGHBOURHOOD == \"West Point Grey\") %>%\n",
    "  ggplot(aes(x = Violent_Crime_Incidents)) +\n",
    "  geom_histogram(binwidth = 5, colour = \"white\") +\n",
    "    xlab(\"Number Yearly of Reported Violent Crimes\") +\n",
    "    ggtitle(\"Sampling Distribution of Yearly Reported Violent Crimes in West Point Grey\")\n",
    "\n",
    "Kitsilano <- violent_crime_sum %>%\n",
    "  filter(NEIGHBOURHOOD == \"Kitsilano\") %>%\n",
    "  ggplot(aes(x = Violent_Crime_Incidents)) +\n",
    "  geom_histogram(binwidth = 5, colour = \"white\") +\n",
    "    xlab(\"Number Yearly of Reported Violent Crimes\") +\n",
    "    ggtitle(\"Sampling Distribution of Yearly Reported Violent Crimes in Kitsilano\")\n",
    "\n",
    "CBD <- violent_crime_sum %>%\n",
    "  filter(NEIGHBOURHOOD == \"Central Business District\") %>%\n",
    "  ggplot(aes(x = Violent_Crime_Incidents)) +\n",
    "  geom_histogram(binwidth = 40, colour = \"white\") +\n",
    "    xlab(\"Number Yearly of Reported Violent Crimes\") +\n",
    "    ggtitle(\"Sampling Distribution of Yearly Reported Violent Crimes in the Central Business District\")"
   ]
  },
  {
   "cell_type": "code",
   "execution_count": null,
   "id": "e3d751b5-d86f-4e2b-9875-31a8880b8b4b",
   "metadata": {},
   "outputs": [],
   "source": [
    "Point_Grey"
   ]
  },
  {
   "cell_type": "code",
   "execution_count": null,
   "id": "4ce993ea-01a1-4240-8bfd-26b222b05a03",
   "metadata": {},
   "outputs": [],
   "source": [
    "Kitsilano"
   ]
  },
  {
   "cell_type": "code",
   "execution_count": null,
   "id": "78de9840-7a0b-4094-9c9f-5293c13bcabe",
   "metadata": {},
   "outputs": [],
   "source": [
    "CBD"
   ]
  },
  {
   "cell_type": "code",
   "execution_count": null,
   "id": "3ca64d66-6128-47b8-a662-ed72a58b7df1",
   "metadata": {},
   "outputs": [],
   "source": [
    "#Create a plot to demonstrate results\n",
    "\n",
    "Crime_mean_plot<- violent_crime_mean %>%\n",
    "             ggplot(aes(x = reorder(NEIGHBOURHOOD, -Mean), y = Mean)) +\n",
    "             geom_bar(stat = 'identity') +\n",
    "             xlab(\"Neighourhood\") +\n",
    "             ylab(\"Mean amount of violent crimes over 2003 - 2021\") +\n",
    "             ggtitle(\"Comparison of the mean amount of violent crimes per year in Vancouver neighbourhoods between 2003 and 2021\") +\n",
    "             coord_flip()"
   ]
  },
  {
   "cell_type": "code",
   "execution_count": null,
   "id": "3407ba58-0a2b-48f8-99a6-ed49841a75da",
   "metadata": {},
   "outputs": [],
   "source": [
    "Crime_mean_plot"
   ]
  },
  {
   "cell_type": "code",
   "execution_count": null,
   "id": "7cca34ed-c8a8-4e80-8c29-2c318fd1fcd6",
   "metadata": {},
   "outputs": [],
   "source": [
    "violent_crime_mean"
   ]
  },
  {
   "cell_type": "markdown",
   "id": "b2220add-9deb-49b0-8871-0a405efb8dd6",
   "metadata": {},
   "source": []
  }
 ],
 "metadata": {
  "kernelspec": {
   "display_name": "R",
   "language": "R",
   "name": "ir"
  },
  "language_info": {
   "name": ""
  }
 },
 "nbformat": 4,
 "nbformat_minor": 5
}
