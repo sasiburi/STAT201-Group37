{
 "cells": [
  {
   "cell_type": "markdown",
   "id": "b824d204-f693-41bd-a16b-c2c3f39e9e25",
   "metadata": {},
   "source": [
    "# Group37 Project Proposal"
   ]
  },
  {
   "cell_type": "markdown",
   "id": "eb1b047d-b781-413d-b991-065b07b2dbd8",
   "metadata": {},
   "source": [
    "## Introduction"
   ]
  },
  {
   "cell_type": "code",
   "execution_count": null,
   "id": "2507b273-df56-4d80-a7db-b4cc19ee1d11",
   "metadata": {},
   "outputs": [],
   "source": []
  },
  {
   "cell_type": "code",
   "execution_count": 1,
   "id": "bd72392c-7c60-4fc4-82aa-f82aa21444b5",
   "metadata": {},
   "outputs": [
    {
     "name": "stderr",
     "output_type": "stream",
     "text": [
      "Warning message in system(\"timedatectl\", intern = TRUE):\n",
      "“running command 'timedatectl' had status 1”\n",
      "── \u001b[1mAttaching packages\u001b[22m ─────────────────────────────────────── tidyverse 1.3.1 ──\n",
      "\n",
      "\u001b[32m✔\u001b[39m \u001b[34mggplot2\u001b[39m 3.3.5     \u001b[32m✔\u001b[39m \u001b[34mpurrr  \u001b[39m 0.3.4\n",
      "\u001b[32m✔\u001b[39m \u001b[34mtibble \u001b[39m 3.1.6     \u001b[32m✔\u001b[39m \u001b[34mdplyr  \u001b[39m 1.0.7\n",
      "\u001b[32m✔\u001b[39m \u001b[34mtidyr  \u001b[39m 1.1.4     \u001b[32m✔\u001b[39m \u001b[34mstringr\u001b[39m 1.4.0\n",
      "\u001b[32m✔\u001b[39m \u001b[34mreadr  \u001b[39m 2.1.1     \u001b[32m✔\u001b[39m \u001b[34mforcats\u001b[39m 0.5.1\n",
      "\n",
      "── \u001b[1mConflicts\u001b[22m ────────────────────────────────────────── tidyverse_conflicts() ──\n",
      "\u001b[31m✖\u001b[39m \u001b[34mdplyr\u001b[39m::\u001b[32mfilter()\u001b[39m masks \u001b[34mstats\u001b[39m::filter()\n",
      "\u001b[31m✖\u001b[39m \u001b[34mdplyr\u001b[39m::\u001b[32mlag()\u001b[39m    masks \u001b[34mstats\u001b[39m::lag()\n",
      "\n",
      "Registered S3 method overwritten by 'GGally':\n",
      "  method from   \n",
      "  +.gg   ggplot2\n",
      "\n"
     ]
    }
   ],
   "source": [
    "library(tidyverse)\n",
    "library(GGally)"
   ]
  },
  {
   "cell_type": "code",
   "execution_count": 17,
   "id": "b221ec3b-4b06-4374-ae57-3b0819c7155d",
   "metadata": {},
   "outputs": [
    {
     "name": "stderr",
     "output_type": "stream",
     "text": [
      "\u001b[1mRows: \u001b[22m\u001b[34m52584\u001b[39m \u001b[1mColumns: \u001b[22m\u001b[34m18\u001b[39m\n",
      "\n",
      "\u001b[36m──\u001b[39m \u001b[1mColumn specification\u001b[22m \u001b[36m────────────────────────────────────────────────────────\u001b[39m\n",
      "\u001b[1mDelimiter:\u001b[22m \",\"\n",
      "\u001b[31mchr\u001b[39m  (1): cbwd\n",
      "\u001b[32mdbl\u001b[39m (17): No, year, month, day, hour, season, PM_Dongsi, PM_Dongsihuan, PM_N...\n",
      "\n",
      "\n",
      "\u001b[36mℹ\u001b[39m Use \u001b[30m\u001b[47m\u001b[30m\u001b[47m`spec()`\u001b[47m\u001b[30m\u001b[49m\u001b[39m to retrieve the full column specification for this data.\n",
      "\u001b[36mℹ\u001b[39m Specify the column types or set \u001b[30m\u001b[47m\u001b[30m\u001b[47m`show_col_types = FALSE`\u001b[47m\u001b[30m\u001b[49m\u001b[39m to quiet this message.\n",
      "\n",
      "\u001b[1mRows: \u001b[22m\u001b[34m52584\u001b[39m \u001b[1mColumns: \u001b[22m\u001b[34m17\u001b[39m\n",
      "\n",
      "\u001b[36m──\u001b[39m \u001b[1mColumn specification\u001b[22m \u001b[36m────────────────────────────────────────────────────────\u001b[39m\n",
      "\u001b[1mDelimiter:\u001b[22m \",\"\n",
      "\u001b[31mchr\u001b[39m  (1): cbwd\n",
      "\u001b[32mdbl\u001b[39m (16): No, year, month, day, hour, season, PM_Caotangsi, PM_Shahepu, PM_U...\n",
      "\n",
      "\n",
      "\u001b[36mℹ\u001b[39m Use \u001b[30m\u001b[47m\u001b[30m\u001b[47m`spec()`\u001b[47m\u001b[30m\u001b[49m\u001b[39m to retrieve the full column specification for this data.\n",
      "\u001b[36mℹ\u001b[39m Specify the column types or set \u001b[30m\u001b[47m\u001b[30m\u001b[47m`show_col_types = FALSE`\u001b[47m\u001b[30m\u001b[49m\u001b[39m to quiet this message.\n",
      "\n",
      "\u001b[1mRows: \u001b[22m\u001b[34m52584\u001b[39m \u001b[1mColumns: \u001b[22m\u001b[34m17\u001b[39m\n",
      "\n",
      "\u001b[36m──\u001b[39m \u001b[1mColumn specification\u001b[22m \u001b[36m────────────────────────────────────────────────────────\u001b[39m\n",
      "\u001b[1mDelimiter:\u001b[22m \",\"\n",
      "\u001b[31mchr\u001b[39m  (1): cbwd\n",
      "\u001b[32mdbl\u001b[39m (16): No, year, month, day, hour, season, PM_City Station, PM_5th Middle...\n",
      "\n",
      "\n",
      "\u001b[36mℹ\u001b[39m Use \u001b[30m\u001b[47m\u001b[30m\u001b[47m`spec()`\u001b[47m\u001b[30m\u001b[49m\u001b[39m to retrieve the full column specification for this data.\n",
      "\u001b[36mℹ\u001b[39m Specify the column types or set \u001b[30m\u001b[47m\u001b[30m\u001b[47m`show_col_types = FALSE`\u001b[47m\u001b[30m\u001b[49m\u001b[39m to quiet this message.\n",
      "\n",
      "\u001b[1mRows: \u001b[22m\u001b[34m52584\u001b[39m \u001b[1mColumns: \u001b[22m\u001b[34m17\u001b[39m\n",
      "\n",
      "\u001b[36m──\u001b[39m \u001b[1mColumn specification\u001b[22m \u001b[36m────────────────────────────────────────────────────────\u001b[39m\n",
      "\u001b[1mDelimiter:\u001b[22m \",\"\n",
      "\u001b[31mchr\u001b[39m  (1): cbwd\n",
      "\u001b[32mdbl\u001b[39m (16): No, year, month, day, hour, season, PM_Jingan, PM_US Post, PM_Xuhu...\n",
      "\n",
      "\n",
      "\u001b[36mℹ\u001b[39m Use \u001b[30m\u001b[47m\u001b[30m\u001b[47m`spec()`\u001b[47m\u001b[30m\u001b[49m\u001b[39m to retrieve the full column specification for this data.\n",
      "\u001b[36mℹ\u001b[39m Specify the column types or set \u001b[30m\u001b[47m\u001b[30m\u001b[47m`show_col_types = FALSE`\u001b[47m\u001b[30m\u001b[49m\u001b[39m to quiet this message.\n",
      "\n",
      "\u001b[1mRows: \u001b[22m\u001b[34m52584\u001b[39m \u001b[1mColumns: \u001b[22m\u001b[34m17\u001b[39m\n",
      "\n",
      "\u001b[36m──\u001b[39m \u001b[1mColumn specification\u001b[22m \u001b[36m────────────────────────────────────────────────────────\u001b[39m\n",
      "\u001b[1mDelimiter:\u001b[22m \",\"\n",
      "\u001b[31mchr\u001b[39m  (1): cbwd\n",
      "\u001b[32mdbl\u001b[39m (16): No, year, month, day, hour, season, PM_Taiyuanjie, PM_US Post, PM_...\n",
      "\n",
      "\n",
      "\u001b[36mℹ\u001b[39m Use \u001b[30m\u001b[47m\u001b[30m\u001b[47m`spec()`\u001b[47m\u001b[30m\u001b[49m\u001b[39m to retrieve the full column specification for this data.\n",
      "\u001b[36mℹ\u001b[39m Specify the column types or set \u001b[30m\u001b[47m\u001b[30m\u001b[47m`show_col_types = FALSE`\u001b[47m\u001b[30m\u001b[49m\u001b[39m to quiet this message.\n",
      "\n"
     ]
    },
    {
     "data": {
      "text/html": [
       "<table class=\"dataframe\">\n",
       "<caption>A tibble: 6 × 18</caption>\n",
       "<thead>\n",
       "\t<tr><th scope=col>No</th><th scope=col>year</th><th scope=col>month</th><th scope=col>day</th><th scope=col>hour</th><th scope=col>season</th><th scope=col>PM_Dongsi</th><th scope=col>PM_Dongsihuan</th><th scope=col>PM_Nongzhanguan</th><th scope=col>PM_US Post</th><th scope=col>DEWP</th><th scope=col>HUMI</th><th scope=col>PRES</th><th scope=col>TEMP</th><th scope=col>cbwd</th><th scope=col>Iws</th><th scope=col>precipitation</th><th scope=col>Iprec</th></tr>\n",
       "\t<tr><th scope=col>&lt;dbl&gt;</th><th scope=col>&lt;dbl&gt;</th><th scope=col>&lt;dbl&gt;</th><th scope=col>&lt;dbl&gt;</th><th scope=col>&lt;dbl&gt;</th><th scope=col>&lt;dbl&gt;</th><th scope=col>&lt;dbl&gt;</th><th scope=col>&lt;dbl&gt;</th><th scope=col>&lt;dbl&gt;</th><th scope=col>&lt;dbl&gt;</th><th scope=col>&lt;dbl&gt;</th><th scope=col>&lt;dbl&gt;</th><th scope=col>&lt;dbl&gt;</th><th scope=col>&lt;dbl&gt;</th><th scope=col>&lt;chr&gt;</th><th scope=col>&lt;dbl&gt;</th><th scope=col>&lt;dbl&gt;</th><th scope=col>&lt;dbl&gt;</th></tr>\n",
       "</thead>\n",
       "<tbody>\n",
       "\t<tr><td>1</td><td>2010</td><td>1</td><td>1</td><td>0</td><td>4</td><td>NA</td><td>NA</td><td>NA</td><td>NA</td><td>-21</td><td>43</td><td>1021</td><td>-11</td><td>NW</td><td> 1.79</td><td>0</td><td>0</td></tr>\n",
       "\t<tr><td>2</td><td>2010</td><td>1</td><td>1</td><td>1</td><td>4</td><td>NA</td><td>NA</td><td>NA</td><td>NA</td><td>-21</td><td>47</td><td>1020</td><td>-12</td><td>NW</td><td> 4.92</td><td>0</td><td>0</td></tr>\n",
       "\t<tr><td>3</td><td>2010</td><td>1</td><td>1</td><td>2</td><td>4</td><td>NA</td><td>NA</td><td>NA</td><td>NA</td><td>-21</td><td>43</td><td>1019</td><td>-11</td><td>NW</td><td> 6.71</td><td>0</td><td>0</td></tr>\n",
       "\t<tr><td>4</td><td>2010</td><td>1</td><td>1</td><td>3</td><td>4</td><td>NA</td><td>NA</td><td>NA</td><td>NA</td><td>-21</td><td>55</td><td>1019</td><td>-14</td><td>NW</td><td> 9.84</td><td>0</td><td>0</td></tr>\n",
       "\t<tr><td>5</td><td>2010</td><td>1</td><td>1</td><td>4</td><td>4</td><td>NA</td><td>NA</td><td>NA</td><td>NA</td><td>-20</td><td>51</td><td>1018</td><td>-12</td><td>NW</td><td>12.97</td><td>0</td><td>0</td></tr>\n",
       "\t<tr><td>6</td><td>2010</td><td>1</td><td>1</td><td>5</td><td>4</td><td>NA</td><td>NA</td><td>NA</td><td>NA</td><td>-19</td><td>47</td><td>1017</td><td>-10</td><td>NW</td><td>16.10</td><td>0</td><td>0</td></tr>\n",
       "</tbody>\n",
       "</table>\n"
      ],
      "text/latex": [
       "A tibble: 6 × 18\n",
       "\\begin{tabular}{llllllllllllllllll}\n",
       " No & year & month & day & hour & season & PM\\_Dongsi & PM\\_Dongsihuan & PM\\_Nongzhanguan & PM\\_US Post & DEWP & HUMI & PRES & TEMP & cbwd & Iws & precipitation & Iprec\\\\\n",
       " <dbl> & <dbl> & <dbl> & <dbl> & <dbl> & <dbl> & <dbl> & <dbl> & <dbl> & <dbl> & <dbl> & <dbl> & <dbl> & <dbl> & <chr> & <dbl> & <dbl> & <dbl>\\\\\n",
       "\\hline\n",
       "\t 1 & 2010 & 1 & 1 & 0 & 4 & NA & NA & NA & NA & -21 & 43 & 1021 & -11 & NW &  1.79 & 0 & 0\\\\\n",
       "\t 2 & 2010 & 1 & 1 & 1 & 4 & NA & NA & NA & NA & -21 & 47 & 1020 & -12 & NW &  4.92 & 0 & 0\\\\\n",
       "\t 3 & 2010 & 1 & 1 & 2 & 4 & NA & NA & NA & NA & -21 & 43 & 1019 & -11 & NW &  6.71 & 0 & 0\\\\\n",
       "\t 4 & 2010 & 1 & 1 & 3 & 4 & NA & NA & NA & NA & -21 & 55 & 1019 & -14 & NW &  9.84 & 0 & 0\\\\\n",
       "\t 5 & 2010 & 1 & 1 & 4 & 4 & NA & NA & NA & NA & -20 & 51 & 1018 & -12 & NW & 12.97 & 0 & 0\\\\\n",
       "\t 6 & 2010 & 1 & 1 & 5 & 4 & NA & NA & NA & NA & -19 & 47 & 1017 & -10 & NW & 16.10 & 0 & 0\\\\\n",
       "\\end{tabular}\n"
      ],
      "text/markdown": [
       "\n",
       "A tibble: 6 × 18\n",
       "\n",
       "| No &lt;dbl&gt; | year &lt;dbl&gt; | month &lt;dbl&gt; | day &lt;dbl&gt; | hour &lt;dbl&gt; | season &lt;dbl&gt; | PM_Dongsi &lt;dbl&gt; | PM_Dongsihuan &lt;dbl&gt; | PM_Nongzhanguan &lt;dbl&gt; | PM_US Post &lt;dbl&gt; | DEWP &lt;dbl&gt; | HUMI &lt;dbl&gt; | PRES &lt;dbl&gt; | TEMP &lt;dbl&gt; | cbwd &lt;chr&gt; | Iws &lt;dbl&gt; | precipitation &lt;dbl&gt; | Iprec &lt;dbl&gt; |\n",
       "|---|---|---|---|---|---|---|---|---|---|---|---|---|---|---|---|---|---|\n",
       "| 1 | 2010 | 1 | 1 | 0 | 4 | NA | NA | NA | NA | -21 | 43 | 1021 | -11 | NW |  1.79 | 0 | 0 |\n",
       "| 2 | 2010 | 1 | 1 | 1 | 4 | NA | NA | NA | NA | -21 | 47 | 1020 | -12 | NW |  4.92 | 0 | 0 |\n",
       "| 3 | 2010 | 1 | 1 | 2 | 4 | NA | NA | NA | NA | -21 | 43 | 1019 | -11 | NW |  6.71 | 0 | 0 |\n",
       "| 4 | 2010 | 1 | 1 | 3 | 4 | NA | NA | NA | NA | -21 | 55 | 1019 | -14 | NW |  9.84 | 0 | 0 |\n",
       "| 5 | 2010 | 1 | 1 | 4 | 4 | NA | NA | NA | NA | -20 | 51 | 1018 | -12 | NW | 12.97 | 0 | 0 |\n",
       "| 6 | 2010 | 1 | 1 | 5 | 4 | NA | NA | NA | NA | -19 | 47 | 1017 | -10 | NW | 16.10 | 0 | 0 |\n",
       "\n"
      ],
      "text/plain": [
       "  No year month day hour season PM_Dongsi PM_Dongsihuan PM_Nongzhanguan\n",
       "1 1  2010 1     1   0    4      NA        NA            NA             \n",
       "2 2  2010 1     1   1    4      NA        NA            NA             \n",
       "3 3  2010 1     1   2    4      NA        NA            NA             \n",
       "4 4  2010 1     1   3    4      NA        NA            NA             \n",
       "5 5  2010 1     1   4    4      NA        NA            NA             \n",
       "6 6  2010 1     1   5    4      NA        NA            NA             \n",
       "  PM_US Post DEWP HUMI PRES TEMP cbwd Iws   precipitation Iprec\n",
       "1 NA         -21  43   1021 -11  NW    1.79 0             0    \n",
       "2 NA         -21  47   1020 -12  NW    4.92 0             0    \n",
       "3 NA         -21  43   1019 -11  NW    6.71 0             0    \n",
       "4 NA         -21  55   1019 -14  NW    9.84 0             0    \n",
       "5 NA         -20  51   1018 -12  NW   12.97 0             0    \n",
       "6 NA         -19  47   1017 -10  NW   16.10 0             0    "
      ]
     },
     "metadata": {},
     "output_type": "display_data"
    },
    {
     "data": {
      "text/html": [
       "<table class=\"dataframe\">\n",
       "<caption>A tibble: 6 × 17</caption>\n",
       "<thead>\n",
       "\t<tr><th scope=col>No</th><th scope=col>year</th><th scope=col>month</th><th scope=col>day</th><th scope=col>hour</th><th scope=col>season</th><th scope=col>PM_Caotangsi</th><th scope=col>PM_Shahepu</th><th scope=col>PM_US Post</th><th scope=col>DEWP</th><th scope=col>HUMI</th><th scope=col>PRES</th><th scope=col>TEMP</th><th scope=col>cbwd</th><th scope=col>Iws</th><th scope=col>precipitation</th><th scope=col>Iprec</th></tr>\n",
       "\t<tr><th scope=col>&lt;dbl&gt;</th><th scope=col>&lt;dbl&gt;</th><th scope=col>&lt;dbl&gt;</th><th scope=col>&lt;dbl&gt;</th><th scope=col>&lt;dbl&gt;</th><th scope=col>&lt;dbl&gt;</th><th scope=col>&lt;dbl&gt;</th><th scope=col>&lt;dbl&gt;</th><th scope=col>&lt;dbl&gt;</th><th scope=col>&lt;dbl&gt;</th><th scope=col>&lt;dbl&gt;</th><th scope=col>&lt;dbl&gt;</th><th scope=col>&lt;dbl&gt;</th><th scope=col>&lt;chr&gt;</th><th scope=col>&lt;dbl&gt;</th><th scope=col>&lt;dbl&gt;</th><th scope=col>&lt;dbl&gt;</th></tr>\n",
       "</thead>\n",
       "<tbody>\n",
       "\t<tr><td>1</td><td>2010</td><td>1</td><td>1</td><td>0</td><td>4</td><td>NA</td><td>NA</td><td>NA</td><td>4</td><td>81.20</td><td>1022</td><td>7</td><td>cv</td><td>1</td><td>0</td><td>0</td></tr>\n",
       "\t<tr><td>2</td><td>2010</td><td>1</td><td>1</td><td>1</td><td>4</td><td>NA</td><td>NA</td><td>NA</td><td>4</td><td>86.99</td><td>1022</td><td>6</td><td>cv</td><td>1</td><td>0</td><td>0</td></tr>\n",
       "\t<tr><td>3</td><td>2010</td><td>1</td><td>1</td><td>2</td><td>4</td><td>NA</td><td>NA</td><td>NA</td><td>4</td><td>86.99</td><td>1021</td><td>6</td><td>cv</td><td>1</td><td>0</td><td>0</td></tr>\n",
       "\t<tr><td>4</td><td>2010</td><td>1</td><td>1</td><td>3</td><td>4</td><td>NA</td><td>NA</td><td>NA</td><td>3</td><td>86.89</td><td>1021</td><td>5</td><td>cv</td><td>1</td><td>0</td><td>0</td></tr>\n",
       "\t<tr><td>5</td><td>2010</td><td>1</td><td>1</td><td>4</td><td>4</td><td>NA</td><td>NA</td><td>NA</td><td>2</td><td>86.79</td><td>1021</td><td>4</td><td>cv</td><td>1</td><td>0</td><td>0</td></tr>\n",
       "\t<tr><td>6</td><td>2010</td><td>1</td><td>1</td><td>5</td><td>4</td><td>NA</td><td>NA</td><td>NA</td><td>2</td><td>93.13</td><td>1020</td><td>3</td><td>cv</td><td>1</td><td>0</td><td>0</td></tr>\n",
       "</tbody>\n",
       "</table>\n"
      ],
      "text/latex": [
       "A tibble: 6 × 17\n",
       "\\begin{tabular}{lllllllllllllllll}\n",
       " No & year & month & day & hour & season & PM\\_Caotangsi & PM\\_Shahepu & PM\\_US Post & DEWP & HUMI & PRES & TEMP & cbwd & Iws & precipitation & Iprec\\\\\n",
       " <dbl> & <dbl> & <dbl> & <dbl> & <dbl> & <dbl> & <dbl> & <dbl> & <dbl> & <dbl> & <dbl> & <dbl> & <dbl> & <chr> & <dbl> & <dbl> & <dbl>\\\\\n",
       "\\hline\n",
       "\t 1 & 2010 & 1 & 1 & 0 & 4 & NA & NA & NA & 4 & 81.20 & 1022 & 7 & cv & 1 & 0 & 0\\\\\n",
       "\t 2 & 2010 & 1 & 1 & 1 & 4 & NA & NA & NA & 4 & 86.99 & 1022 & 6 & cv & 1 & 0 & 0\\\\\n",
       "\t 3 & 2010 & 1 & 1 & 2 & 4 & NA & NA & NA & 4 & 86.99 & 1021 & 6 & cv & 1 & 0 & 0\\\\\n",
       "\t 4 & 2010 & 1 & 1 & 3 & 4 & NA & NA & NA & 3 & 86.89 & 1021 & 5 & cv & 1 & 0 & 0\\\\\n",
       "\t 5 & 2010 & 1 & 1 & 4 & 4 & NA & NA & NA & 2 & 86.79 & 1021 & 4 & cv & 1 & 0 & 0\\\\\n",
       "\t 6 & 2010 & 1 & 1 & 5 & 4 & NA & NA & NA & 2 & 93.13 & 1020 & 3 & cv & 1 & 0 & 0\\\\\n",
       "\\end{tabular}\n"
      ],
      "text/markdown": [
       "\n",
       "A tibble: 6 × 17\n",
       "\n",
       "| No &lt;dbl&gt; | year &lt;dbl&gt; | month &lt;dbl&gt; | day &lt;dbl&gt; | hour &lt;dbl&gt; | season &lt;dbl&gt; | PM_Caotangsi &lt;dbl&gt; | PM_Shahepu &lt;dbl&gt; | PM_US Post &lt;dbl&gt; | DEWP &lt;dbl&gt; | HUMI &lt;dbl&gt; | PRES &lt;dbl&gt; | TEMP &lt;dbl&gt; | cbwd &lt;chr&gt; | Iws &lt;dbl&gt; | precipitation &lt;dbl&gt; | Iprec &lt;dbl&gt; |\n",
       "|---|---|---|---|---|---|---|---|---|---|---|---|---|---|---|---|---|\n",
       "| 1 | 2010 | 1 | 1 | 0 | 4 | NA | NA | NA | 4 | 81.20 | 1022 | 7 | cv | 1 | 0 | 0 |\n",
       "| 2 | 2010 | 1 | 1 | 1 | 4 | NA | NA | NA | 4 | 86.99 | 1022 | 6 | cv | 1 | 0 | 0 |\n",
       "| 3 | 2010 | 1 | 1 | 2 | 4 | NA | NA | NA | 4 | 86.99 | 1021 | 6 | cv | 1 | 0 | 0 |\n",
       "| 4 | 2010 | 1 | 1 | 3 | 4 | NA | NA | NA | 3 | 86.89 | 1021 | 5 | cv | 1 | 0 | 0 |\n",
       "| 5 | 2010 | 1 | 1 | 4 | 4 | NA | NA | NA | 2 | 86.79 | 1021 | 4 | cv | 1 | 0 | 0 |\n",
       "| 6 | 2010 | 1 | 1 | 5 | 4 | NA | NA | NA | 2 | 93.13 | 1020 | 3 | cv | 1 | 0 | 0 |\n",
       "\n"
      ],
      "text/plain": [
       "  No year month day hour season PM_Caotangsi PM_Shahepu PM_US Post DEWP HUMI \n",
       "1 1  2010 1     1   0    4      NA           NA         NA         4    81.20\n",
       "2 2  2010 1     1   1    4      NA           NA         NA         4    86.99\n",
       "3 3  2010 1     1   2    4      NA           NA         NA         4    86.99\n",
       "4 4  2010 1     1   3    4      NA           NA         NA         3    86.89\n",
       "5 5  2010 1     1   4    4      NA           NA         NA         2    86.79\n",
       "6 6  2010 1     1   5    4      NA           NA         NA         2    93.13\n",
       "  PRES TEMP cbwd Iws precipitation Iprec\n",
       "1 1022 7    cv   1   0             0    \n",
       "2 1022 6    cv   1   0             0    \n",
       "3 1021 6    cv   1   0             0    \n",
       "4 1021 5    cv   1   0             0    \n",
       "5 1021 4    cv   1   0             0    \n",
       "6 1020 3    cv   1   0             0    "
      ]
     },
     "metadata": {},
     "output_type": "display_data"
    },
    {
     "data": {
      "text/html": [
       "<table class=\"dataframe\">\n",
       "<caption>A tibble: 6 × 17</caption>\n",
       "<thead>\n",
       "\t<tr><th scope=col>No</th><th scope=col>year</th><th scope=col>month</th><th scope=col>day</th><th scope=col>hour</th><th scope=col>season</th><th scope=col>PM_City Station</th><th scope=col>PM_5th Middle School</th><th scope=col>PM_US Post</th><th scope=col>DEWP</th><th scope=col>HUMI</th><th scope=col>PRES</th><th scope=col>TEMP</th><th scope=col>cbwd</th><th scope=col>Iws</th><th scope=col>precipitation</th><th scope=col>Iprec</th></tr>\n",
       "\t<tr><th scope=col>&lt;dbl&gt;</th><th scope=col>&lt;dbl&gt;</th><th scope=col>&lt;dbl&gt;</th><th scope=col>&lt;dbl&gt;</th><th scope=col>&lt;dbl&gt;</th><th scope=col>&lt;dbl&gt;</th><th scope=col>&lt;dbl&gt;</th><th scope=col>&lt;dbl&gt;</th><th scope=col>&lt;dbl&gt;</th><th scope=col>&lt;dbl&gt;</th><th scope=col>&lt;dbl&gt;</th><th scope=col>&lt;dbl&gt;</th><th scope=col>&lt;dbl&gt;</th><th scope=col>&lt;chr&gt;</th><th scope=col>&lt;dbl&gt;</th><th scope=col>&lt;dbl&gt;</th><th scope=col>&lt;dbl&gt;</th></tr>\n",
       "</thead>\n",
       "<tbody>\n",
       "\t<tr><td>1</td><td>2010</td><td>1</td><td>1</td><td>0</td><td>4</td><td>NA</td><td>NA</td><td>NA</td><td> 9.4</td><td>76</td><td>1015.1</td><td>13.5</td><td>NW</td><td>0.8</td><td>0.0</td><td>0.0</td></tr>\n",
       "\t<tr><td>2</td><td>2010</td><td>1</td><td>1</td><td>1</td><td>4</td><td>NA</td><td>NA</td><td>NA</td><td>10.2</td><td>83</td><td>1015.2</td><td>13.0</td><td>cv</td><td>0.5</td><td>0.0</td><td>0.0</td></tr>\n",
       "\t<tr><td>3</td><td>2010</td><td>1</td><td>1</td><td>2</td><td>4</td><td>NA</td><td>NA</td><td>NA</td><td>10.4</td><td>87</td><td>1015.0</td><td>12.5</td><td>NW</td><td>0.6</td><td>0.3</td><td>0.3</td></tr>\n",
       "\t<tr><td>4</td><td>2010</td><td>1</td><td>1</td><td>3</td><td>4</td><td>NA</td><td>NA</td><td>NA</td><td>10.2</td><td>89</td><td>1014.9</td><td>12.0</td><td>NW</td><td>1.4</td><td>0.6</td><td>0.9</td></tr>\n",
       "\t<tr><td>5</td><td>2010</td><td>1</td><td>1</td><td>4</td><td>4</td><td>NA</td><td>NA</td><td>NA</td><td>10.4</td><td>91</td><td>1014.6</td><td>11.8</td><td>NE</td><td>0.6</td><td>0.7</td><td>1.6</td></tr>\n",
       "\t<tr><td>6</td><td>2010</td><td>1</td><td>1</td><td>5</td><td>4</td><td>NA</td><td>NA</td><td>NA</td><td>10.3</td><td>91</td><td>1014.4</td><td>11.7</td><td>NW</td><td>1.4</td><td>0.3</td><td>1.9</td></tr>\n",
       "</tbody>\n",
       "</table>\n"
      ],
      "text/latex": [
       "A tibble: 6 × 17\n",
       "\\begin{tabular}{lllllllllllllllll}\n",
       " No & year & month & day & hour & season & PM\\_City Station & PM\\_5th Middle School & PM\\_US Post & DEWP & HUMI & PRES & TEMP & cbwd & Iws & precipitation & Iprec\\\\\n",
       " <dbl> & <dbl> & <dbl> & <dbl> & <dbl> & <dbl> & <dbl> & <dbl> & <dbl> & <dbl> & <dbl> & <dbl> & <dbl> & <chr> & <dbl> & <dbl> & <dbl>\\\\\n",
       "\\hline\n",
       "\t 1 & 2010 & 1 & 1 & 0 & 4 & NA & NA & NA &  9.4 & 76 & 1015.1 & 13.5 & NW & 0.8 & 0.0 & 0.0\\\\\n",
       "\t 2 & 2010 & 1 & 1 & 1 & 4 & NA & NA & NA & 10.2 & 83 & 1015.2 & 13.0 & cv & 0.5 & 0.0 & 0.0\\\\\n",
       "\t 3 & 2010 & 1 & 1 & 2 & 4 & NA & NA & NA & 10.4 & 87 & 1015.0 & 12.5 & NW & 0.6 & 0.3 & 0.3\\\\\n",
       "\t 4 & 2010 & 1 & 1 & 3 & 4 & NA & NA & NA & 10.2 & 89 & 1014.9 & 12.0 & NW & 1.4 & 0.6 & 0.9\\\\\n",
       "\t 5 & 2010 & 1 & 1 & 4 & 4 & NA & NA & NA & 10.4 & 91 & 1014.6 & 11.8 & NE & 0.6 & 0.7 & 1.6\\\\\n",
       "\t 6 & 2010 & 1 & 1 & 5 & 4 & NA & NA & NA & 10.3 & 91 & 1014.4 & 11.7 & NW & 1.4 & 0.3 & 1.9\\\\\n",
       "\\end{tabular}\n"
      ],
      "text/markdown": [
       "\n",
       "A tibble: 6 × 17\n",
       "\n",
       "| No &lt;dbl&gt; | year &lt;dbl&gt; | month &lt;dbl&gt; | day &lt;dbl&gt; | hour &lt;dbl&gt; | season &lt;dbl&gt; | PM_City Station &lt;dbl&gt; | PM_5th Middle School &lt;dbl&gt; | PM_US Post &lt;dbl&gt; | DEWP &lt;dbl&gt; | HUMI &lt;dbl&gt; | PRES &lt;dbl&gt; | TEMP &lt;dbl&gt; | cbwd &lt;chr&gt; | Iws &lt;dbl&gt; | precipitation &lt;dbl&gt; | Iprec &lt;dbl&gt; |\n",
       "|---|---|---|---|---|---|---|---|---|---|---|---|---|---|---|---|---|\n",
       "| 1 | 2010 | 1 | 1 | 0 | 4 | NA | NA | NA |  9.4 | 76 | 1015.1 | 13.5 | NW | 0.8 | 0.0 | 0.0 |\n",
       "| 2 | 2010 | 1 | 1 | 1 | 4 | NA | NA | NA | 10.2 | 83 | 1015.2 | 13.0 | cv | 0.5 | 0.0 | 0.0 |\n",
       "| 3 | 2010 | 1 | 1 | 2 | 4 | NA | NA | NA | 10.4 | 87 | 1015.0 | 12.5 | NW | 0.6 | 0.3 | 0.3 |\n",
       "| 4 | 2010 | 1 | 1 | 3 | 4 | NA | NA | NA | 10.2 | 89 | 1014.9 | 12.0 | NW | 1.4 | 0.6 | 0.9 |\n",
       "| 5 | 2010 | 1 | 1 | 4 | 4 | NA | NA | NA | 10.4 | 91 | 1014.6 | 11.8 | NE | 0.6 | 0.7 | 1.6 |\n",
       "| 6 | 2010 | 1 | 1 | 5 | 4 | NA | NA | NA | 10.3 | 91 | 1014.4 | 11.7 | NW | 1.4 | 0.3 | 1.9 |\n",
       "\n"
      ],
      "text/plain": [
       "  No year month day hour season PM_City Station PM_5th Middle School PM_US Post\n",
       "1 1  2010 1     1   0    4      NA              NA                   NA        \n",
       "2 2  2010 1     1   1    4      NA              NA                   NA        \n",
       "3 3  2010 1     1   2    4      NA              NA                   NA        \n",
       "4 4  2010 1     1   3    4      NA              NA                   NA        \n",
       "5 5  2010 1     1   4    4      NA              NA                   NA        \n",
       "6 6  2010 1     1   5    4      NA              NA                   NA        \n",
       "  DEWP HUMI PRES   TEMP cbwd Iws precipitation Iprec\n",
       "1  9.4 76   1015.1 13.5 NW   0.8 0.0           0.0  \n",
       "2 10.2 83   1015.2 13.0 cv   0.5 0.0           0.0  \n",
       "3 10.4 87   1015.0 12.5 NW   0.6 0.3           0.3  \n",
       "4 10.2 89   1014.9 12.0 NW   1.4 0.6           0.9  \n",
       "5 10.4 91   1014.6 11.8 NE   0.6 0.7           1.6  \n",
       "6 10.3 91   1014.4 11.7 NW   1.4 0.3           1.9  "
      ]
     },
     "metadata": {},
     "output_type": "display_data"
    },
    {
     "data": {
      "text/html": [
       "<table class=\"dataframe\">\n",
       "<caption>A tibble: 6 × 17</caption>\n",
       "<thead>\n",
       "\t<tr><th scope=col>No</th><th scope=col>year</th><th scope=col>month</th><th scope=col>day</th><th scope=col>hour</th><th scope=col>season</th><th scope=col>PM_Jingan</th><th scope=col>PM_US Post</th><th scope=col>PM_Xuhui</th><th scope=col>DEWP</th><th scope=col>HUMI</th><th scope=col>PRES</th><th scope=col>TEMP</th><th scope=col>cbwd</th><th scope=col>Iws</th><th scope=col>precipitation</th><th scope=col>Iprec</th></tr>\n",
       "\t<tr><th scope=col>&lt;dbl&gt;</th><th scope=col>&lt;dbl&gt;</th><th scope=col>&lt;dbl&gt;</th><th scope=col>&lt;dbl&gt;</th><th scope=col>&lt;dbl&gt;</th><th scope=col>&lt;dbl&gt;</th><th scope=col>&lt;dbl&gt;</th><th scope=col>&lt;dbl&gt;</th><th scope=col>&lt;dbl&gt;</th><th scope=col>&lt;dbl&gt;</th><th scope=col>&lt;dbl&gt;</th><th scope=col>&lt;dbl&gt;</th><th scope=col>&lt;dbl&gt;</th><th scope=col>&lt;chr&gt;</th><th scope=col>&lt;dbl&gt;</th><th scope=col>&lt;dbl&gt;</th><th scope=col>&lt;dbl&gt;</th></tr>\n",
       "</thead>\n",
       "<tbody>\n",
       "\t<tr><td>1</td><td>2010</td><td>1</td><td>1</td><td>0</td><td>4</td><td>NA</td><td>NA</td><td>NA</td><td>-6</td><td>59.48</td><td>1026.1</td><td>1</td><td>cv</td><td> 1</td><td>0</td><td>0</td></tr>\n",
       "\t<tr><td>2</td><td>2010</td><td>1</td><td>1</td><td>1</td><td>4</td><td>NA</td><td>NA</td><td>NA</td><td>-6</td><td>59.48</td><td>1025.1</td><td>1</td><td>SE</td><td> 2</td><td>0</td><td>0</td></tr>\n",
       "\t<tr><td>3</td><td>2010</td><td>1</td><td>1</td><td>2</td><td>4</td><td>NA</td><td>NA</td><td>NA</td><td>-7</td><td>59.21</td><td>1025.1</td><td>0</td><td>SE</td><td> 4</td><td>0</td><td>0</td></tr>\n",
       "\t<tr><td>4</td><td>2010</td><td>1</td><td>1</td><td>3</td><td>4</td><td>NA</td><td>NA</td><td>NA</td><td>-6</td><td>63.94</td><td>1024.0</td><td>0</td><td>SE</td><td> 5</td><td>0</td><td>0</td></tr>\n",
       "\t<tr><td>5</td><td>2010</td><td>1</td><td>1</td><td>4</td><td>4</td><td>NA</td><td>NA</td><td>NA</td><td>-6</td><td>63.94</td><td>1023.0</td><td>0</td><td>SE</td><td> 8</td><td>0</td><td>0</td></tr>\n",
       "\t<tr><td>6</td><td>2010</td><td>1</td><td>1</td><td>5</td><td>4</td><td>NA</td><td>NA</td><td>NA</td><td>-7</td><td>59.21</td><td>1023.0</td><td>0</td><td>SE</td><td>11</td><td>0</td><td>0</td></tr>\n",
       "</tbody>\n",
       "</table>\n"
      ],
      "text/latex": [
       "A tibble: 6 × 17\n",
       "\\begin{tabular}{lllllllllllllllll}\n",
       " No & year & month & day & hour & season & PM\\_Jingan & PM\\_US Post & PM\\_Xuhui & DEWP & HUMI & PRES & TEMP & cbwd & Iws & precipitation & Iprec\\\\\n",
       " <dbl> & <dbl> & <dbl> & <dbl> & <dbl> & <dbl> & <dbl> & <dbl> & <dbl> & <dbl> & <dbl> & <dbl> & <dbl> & <chr> & <dbl> & <dbl> & <dbl>\\\\\n",
       "\\hline\n",
       "\t 1 & 2010 & 1 & 1 & 0 & 4 & NA & NA & NA & -6 & 59.48 & 1026.1 & 1 & cv &  1 & 0 & 0\\\\\n",
       "\t 2 & 2010 & 1 & 1 & 1 & 4 & NA & NA & NA & -6 & 59.48 & 1025.1 & 1 & SE &  2 & 0 & 0\\\\\n",
       "\t 3 & 2010 & 1 & 1 & 2 & 4 & NA & NA & NA & -7 & 59.21 & 1025.1 & 0 & SE &  4 & 0 & 0\\\\\n",
       "\t 4 & 2010 & 1 & 1 & 3 & 4 & NA & NA & NA & -6 & 63.94 & 1024.0 & 0 & SE &  5 & 0 & 0\\\\\n",
       "\t 5 & 2010 & 1 & 1 & 4 & 4 & NA & NA & NA & -6 & 63.94 & 1023.0 & 0 & SE &  8 & 0 & 0\\\\\n",
       "\t 6 & 2010 & 1 & 1 & 5 & 4 & NA & NA & NA & -7 & 59.21 & 1023.0 & 0 & SE & 11 & 0 & 0\\\\\n",
       "\\end{tabular}\n"
      ],
      "text/markdown": [
       "\n",
       "A tibble: 6 × 17\n",
       "\n",
       "| No &lt;dbl&gt; | year &lt;dbl&gt; | month &lt;dbl&gt; | day &lt;dbl&gt; | hour &lt;dbl&gt; | season &lt;dbl&gt; | PM_Jingan &lt;dbl&gt; | PM_US Post &lt;dbl&gt; | PM_Xuhui &lt;dbl&gt; | DEWP &lt;dbl&gt; | HUMI &lt;dbl&gt; | PRES &lt;dbl&gt; | TEMP &lt;dbl&gt; | cbwd &lt;chr&gt; | Iws &lt;dbl&gt; | precipitation &lt;dbl&gt; | Iprec &lt;dbl&gt; |\n",
       "|---|---|---|---|---|---|---|---|---|---|---|---|---|---|---|---|---|\n",
       "| 1 | 2010 | 1 | 1 | 0 | 4 | NA | NA | NA | -6 | 59.48 | 1026.1 | 1 | cv |  1 | 0 | 0 |\n",
       "| 2 | 2010 | 1 | 1 | 1 | 4 | NA | NA | NA | -6 | 59.48 | 1025.1 | 1 | SE |  2 | 0 | 0 |\n",
       "| 3 | 2010 | 1 | 1 | 2 | 4 | NA | NA | NA | -7 | 59.21 | 1025.1 | 0 | SE |  4 | 0 | 0 |\n",
       "| 4 | 2010 | 1 | 1 | 3 | 4 | NA | NA | NA | -6 | 63.94 | 1024.0 | 0 | SE |  5 | 0 | 0 |\n",
       "| 5 | 2010 | 1 | 1 | 4 | 4 | NA | NA | NA | -6 | 63.94 | 1023.0 | 0 | SE |  8 | 0 | 0 |\n",
       "| 6 | 2010 | 1 | 1 | 5 | 4 | NA | NA | NA | -7 | 59.21 | 1023.0 | 0 | SE | 11 | 0 | 0 |\n",
       "\n"
      ],
      "text/plain": [
       "  No year month day hour season PM_Jingan PM_US Post PM_Xuhui DEWP HUMI  PRES  \n",
       "1 1  2010 1     1   0    4      NA        NA         NA       -6   59.48 1026.1\n",
       "2 2  2010 1     1   1    4      NA        NA         NA       -6   59.48 1025.1\n",
       "3 3  2010 1     1   2    4      NA        NA         NA       -7   59.21 1025.1\n",
       "4 4  2010 1     1   3    4      NA        NA         NA       -6   63.94 1024.0\n",
       "5 5  2010 1     1   4    4      NA        NA         NA       -6   63.94 1023.0\n",
       "6 6  2010 1     1   5    4      NA        NA         NA       -7   59.21 1023.0\n",
       "  TEMP cbwd Iws precipitation Iprec\n",
       "1 1    cv    1  0             0    \n",
       "2 1    SE    2  0             0    \n",
       "3 0    SE    4  0             0    \n",
       "4 0    SE    5  0             0    \n",
       "5 0    SE    8  0             0    \n",
       "6 0    SE   11  0             0    "
      ]
     },
     "metadata": {},
     "output_type": "display_data"
    },
    {
     "data": {
      "text/html": [
       "<table class=\"dataframe\">\n",
       "<caption>A tibble: 6 × 17</caption>\n",
       "<thead>\n",
       "\t<tr><th scope=col>No</th><th scope=col>year</th><th scope=col>month</th><th scope=col>day</th><th scope=col>hour</th><th scope=col>season</th><th scope=col>PM_Taiyuanjie</th><th scope=col>PM_US Post</th><th scope=col>PM_Xiaoheyan</th><th scope=col>DEWP</th><th scope=col>HUMI</th><th scope=col>PRES</th><th scope=col>TEMP</th><th scope=col>cbwd</th><th scope=col>Iws</th><th scope=col>precipitation</th><th scope=col>Iprec</th></tr>\n",
       "\t<tr><th scope=col>&lt;dbl&gt;</th><th scope=col>&lt;dbl&gt;</th><th scope=col>&lt;dbl&gt;</th><th scope=col>&lt;dbl&gt;</th><th scope=col>&lt;dbl&gt;</th><th scope=col>&lt;dbl&gt;</th><th scope=col>&lt;dbl&gt;</th><th scope=col>&lt;dbl&gt;</th><th scope=col>&lt;dbl&gt;</th><th scope=col>&lt;dbl&gt;</th><th scope=col>&lt;dbl&gt;</th><th scope=col>&lt;dbl&gt;</th><th scope=col>&lt;dbl&gt;</th><th scope=col>&lt;chr&gt;</th><th scope=col>&lt;dbl&gt;</th><th scope=col>&lt;dbl&gt;</th><th scope=col>&lt;dbl&gt;</th></tr>\n",
       "</thead>\n",
       "<tbody>\n",
       "\t<tr><td>1</td><td>2010</td><td>1</td><td>1</td><td>0</td><td>4</td><td>NA</td><td>NA</td><td>NA</td><td>-26</td><td>69.79</td><td>1024</td><td>-22</td><td>NE</td><td> 1.0289</td><td>NA</td><td>NA</td></tr>\n",
       "\t<tr><td>2</td><td>2010</td><td>1</td><td>1</td><td>1</td><td>4</td><td>NA</td><td>NA</td><td>NA</td><td>-26</td><td>76.26</td><td>1024</td><td>-23</td><td>NE</td><td> 2.5722</td><td>NA</td><td>NA</td></tr>\n",
       "\t<tr><td>3</td><td>2010</td><td>1</td><td>1</td><td>2</td><td>4</td><td>NA</td><td>NA</td><td>NA</td><td>-27</td><td>69.56</td><td>1023</td><td>-23</td><td>NE</td><td> 5.1444</td><td>NA</td><td>NA</td></tr>\n",
       "\t<tr><td>4</td><td>2010</td><td>1</td><td>1</td><td>3</td><td>4</td><td>NA</td><td>NA</td><td>NA</td><td>-27</td><td>69.56</td><td>1023</td><td>-23</td><td>NE</td><td> 7.7166</td><td>NA</td><td>NA</td></tr>\n",
       "\t<tr><td>5</td><td>2010</td><td>1</td><td>1</td><td>4</td><td>4</td><td>NA</td><td>NA</td><td>NA</td><td>-27</td><td>69.56</td><td>1022</td><td>-23</td><td>NE</td><td> 9.7744</td><td>NA</td><td>NA</td></tr>\n",
       "\t<tr><td>6</td><td>2010</td><td>1</td><td>1</td><td>5</td><td>4</td><td>NA</td><td>NA</td><td>NA</td><td>-26</td><td>76.26</td><td>1022</td><td>-23</td><td>NE</td><td>11.8322</td><td>NA</td><td>NA</td></tr>\n",
       "</tbody>\n",
       "</table>\n"
      ],
      "text/latex": [
       "A tibble: 6 × 17\n",
       "\\begin{tabular}{lllllllllllllllll}\n",
       " No & year & month & day & hour & season & PM\\_Taiyuanjie & PM\\_US Post & PM\\_Xiaoheyan & DEWP & HUMI & PRES & TEMP & cbwd & Iws & precipitation & Iprec\\\\\n",
       " <dbl> & <dbl> & <dbl> & <dbl> & <dbl> & <dbl> & <dbl> & <dbl> & <dbl> & <dbl> & <dbl> & <dbl> & <dbl> & <chr> & <dbl> & <dbl> & <dbl>\\\\\n",
       "\\hline\n",
       "\t 1 & 2010 & 1 & 1 & 0 & 4 & NA & NA & NA & -26 & 69.79 & 1024 & -22 & NE &  1.0289 & NA & NA\\\\\n",
       "\t 2 & 2010 & 1 & 1 & 1 & 4 & NA & NA & NA & -26 & 76.26 & 1024 & -23 & NE &  2.5722 & NA & NA\\\\\n",
       "\t 3 & 2010 & 1 & 1 & 2 & 4 & NA & NA & NA & -27 & 69.56 & 1023 & -23 & NE &  5.1444 & NA & NA\\\\\n",
       "\t 4 & 2010 & 1 & 1 & 3 & 4 & NA & NA & NA & -27 & 69.56 & 1023 & -23 & NE &  7.7166 & NA & NA\\\\\n",
       "\t 5 & 2010 & 1 & 1 & 4 & 4 & NA & NA & NA & -27 & 69.56 & 1022 & -23 & NE &  9.7744 & NA & NA\\\\\n",
       "\t 6 & 2010 & 1 & 1 & 5 & 4 & NA & NA & NA & -26 & 76.26 & 1022 & -23 & NE & 11.8322 & NA & NA\\\\\n",
       "\\end{tabular}\n"
      ],
      "text/markdown": [
       "\n",
       "A tibble: 6 × 17\n",
       "\n",
       "| No &lt;dbl&gt; | year &lt;dbl&gt; | month &lt;dbl&gt; | day &lt;dbl&gt; | hour &lt;dbl&gt; | season &lt;dbl&gt; | PM_Taiyuanjie &lt;dbl&gt; | PM_US Post &lt;dbl&gt; | PM_Xiaoheyan &lt;dbl&gt; | DEWP &lt;dbl&gt; | HUMI &lt;dbl&gt; | PRES &lt;dbl&gt; | TEMP &lt;dbl&gt; | cbwd &lt;chr&gt; | Iws &lt;dbl&gt; | precipitation &lt;dbl&gt; | Iprec &lt;dbl&gt; |\n",
       "|---|---|---|---|---|---|---|---|---|---|---|---|---|---|---|---|---|\n",
       "| 1 | 2010 | 1 | 1 | 0 | 4 | NA | NA | NA | -26 | 69.79 | 1024 | -22 | NE |  1.0289 | NA | NA |\n",
       "| 2 | 2010 | 1 | 1 | 1 | 4 | NA | NA | NA | -26 | 76.26 | 1024 | -23 | NE |  2.5722 | NA | NA |\n",
       "| 3 | 2010 | 1 | 1 | 2 | 4 | NA | NA | NA | -27 | 69.56 | 1023 | -23 | NE |  5.1444 | NA | NA |\n",
       "| 4 | 2010 | 1 | 1 | 3 | 4 | NA | NA | NA | -27 | 69.56 | 1023 | -23 | NE |  7.7166 | NA | NA |\n",
       "| 5 | 2010 | 1 | 1 | 4 | 4 | NA | NA | NA | -27 | 69.56 | 1022 | -23 | NE |  9.7744 | NA | NA |\n",
       "| 6 | 2010 | 1 | 1 | 5 | 4 | NA | NA | NA | -26 | 76.26 | 1022 | -23 | NE | 11.8322 | NA | NA |\n",
       "\n"
      ],
      "text/plain": [
       "  No year month day hour season PM_Taiyuanjie PM_US Post PM_Xiaoheyan DEWP\n",
       "1 1  2010 1     1   0    4      NA            NA         NA           -26 \n",
       "2 2  2010 1     1   1    4      NA            NA         NA           -26 \n",
       "3 3  2010 1     1   2    4      NA            NA         NA           -27 \n",
       "4 4  2010 1     1   3    4      NA            NA         NA           -27 \n",
       "5 5  2010 1     1   4    4      NA            NA         NA           -27 \n",
       "6 6  2010 1     1   5    4      NA            NA         NA           -26 \n",
       "  HUMI  PRES TEMP cbwd Iws     precipitation Iprec\n",
       "1 69.79 1024 -22  NE    1.0289 NA            NA   \n",
       "2 76.26 1024 -23  NE    2.5722 NA            NA   \n",
       "3 69.56 1023 -23  NE    5.1444 NA            NA   \n",
       "4 69.56 1023 -23  NE    7.7166 NA            NA   \n",
       "5 69.56 1022 -23  NE    9.7744 NA            NA   \n",
       "6 76.26 1022 -23  NE   11.8322 NA            NA   "
      ]
     },
     "metadata": {},
     "output_type": "display_data"
    }
   ],
   "source": [
    "Beijing <- read_csv(\"Data/BeijingPM20100101_20151231.csv\")\n",
    "Chengdu <- read_csv(\"Data/ChengduPM20100101_20151231.csv\")\n",
    "Guangzhou <- read_csv(\"Data/GuangzhouPM20100101_20151231.csv\")\n",
    "Shanghai <- read_csv(\"Data/ShanghaiPM20100101_20151231.csv\")\n",
    "Shenyang <- read_csv(\"Data/ShenyangPM20100101_20151231.csv\")\n",
    "head(Beijing)\n",
    "head(Chengdu)\n",
    "head(Guangzhou)\n",
    "head(Shanghai)\n",
    "head(Shenyang)"
   ]
  },
  {
   "cell_type": "code",
   "execution_count": null,
   "id": "0104cccc-05e4-4232-9dfd-b2736c7c0211",
   "metadata": {},
   "outputs": [],
   "source": []
  }
 ],
 "metadata": {
  "kernelspec": {
   "display_name": "R",
   "language": "R",
   "name": "ir"
  },
  "language_info": {
   "codemirror_mode": "r",
   "file_extension": ".r",
   "mimetype": "text/x-r-source",
   "name": "R",
   "pygments_lexer": "r",
   "version": "4.1.2"
  }
 },
 "nbformat": 4,
 "nbformat_minor": 5
}
