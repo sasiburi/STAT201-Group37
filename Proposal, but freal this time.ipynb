{
 "cells": [
  {
   "cell_type": "code",
   "execution_count": 1,
   "id": "3df35eaf-a22b-4af4-9fc6-9e25f1aade22",
   "metadata": {},
   "outputs": [
    {
     "name": "stderr",
     "output_type": "stream",
     "text": [
      "Warning message in system(\"timedatectl\", intern = TRUE):\n",
      "“running command 'timedatectl' had status 1”\n",
      "── \u001b[1mAttaching packages\u001b[22m ─────────────────────────────────────── tidyverse 1.3.1 ──\n",
      "\n",
      "\u001b[32m✔\u001b[39m \u001b[34mggplot2\u001b[39m 3.3.5     \u001b[32m✔\u001b[39m \u001b[34mpurrr  \u001b[39m 0.3.4\n",
      "\u001b[32m✔\u001b[39m \u001b[34mtibble \u001b[39m 3.1.6     \u001b[32m✔\u001b[39m \u001b[34mdplyr  \u001b[39m 1.0.7\n",
      "\u001b[32m✔\u001b[39m \u001b[34mtidyr  \u001b[39m 1.1.4     \u001b[32m✔\u001b[39m \u001b[34mstringr\u001b[39m 1.4.0\n",
      "\u001b[32m✔\u001b[39m \u001b[34mreadr  \u001b[39m 2.1.1     \u001b[32m✔\u001b[39m \u001b[34mforcats\u001b[39m 0.5.1\n",
      "\n",
      "── \u001b[1mConflicts\u001b[22m ────────────────────────────────────────── tidyverse_conflicts() ──\n",
      "\u001b[31m✖\u001b[39m \u001b[34mdplyr\u001b[39m::\u001b[32mfilter()\u001b[39m masks \u001b[34mstats\u001b[39m::filter()\n",
      "\u001b[31m✖\u001b[39m \u001b[34mdplyr\u001b[39m::\u001b[32mlag()\u001b[39m    masks \u001b[34mstats\u001b[39m::lag()\n",
      "\n"
     ]
    }
   ],
   "source": [
    "library(tidyverse)"
   ]
  },
  {
   "cell_type": "markdown",
   "id": "9e170d86",
   "metadata": {},
   "source": [
    "We must first load in our dataset. The data set we chose is the Vancouver crime dataset. Since the dataset is updated everyday, it is constantly changing. We chose to take data from all neighborhoods in the year 2020. To find the exact dataset that we used, you must visit our github. https://github.com/sasiburi/STAT201-Group37 is the link."
   ]
  },
  {
   "cell_type": "code",
   "execution_count": 2,
   "id": "ac0ba7fe-4441-42bf-9b4e-3ac64fbd3a45",
   "metadata": {},
   "outputs": [
    {
     "name": "stderr",
     "output_type": "stream",
     "text": [
      "\u001b[1mRows: \u001b[22m\u001b[34m37492\u001b[39m \u001b[1mColumns: \u001b[22m\u001b[34m10\u001b[39m\n",
      "\n",
      "\u001b[36m──\u001b[39m \u001b[1mColumn specification\u001b[22m \u001b[36m────────────────────────────────────────────────────────\u001b[39m\n",
      "\u001b[1mDelimiter:\u001b[22m \",\"\n",
      "\u001b[31mchr\u001b[39m (3): TYPE, HUNDRED_BLOCK, NEIGHBOURHOOD\n",
      "\u001b[32mdbl\u001b[39m (7): YEAR, MONTH, DAY, HOUR, MINUTE, X, Y\n",
      "\n",
      "\n",
      "\u001b[36mℹ\u001b[39m Use \u001b[30m\u001b[47m\u001b[30m\u001b[47m`spec()`\u001b[47m\u001b[30m\u001b[49m\u001b[39m to retrieve the full column specification for this data.\n",
      "\u001b[36mℹ\u001b[39m Specify the column types or set \u001b[30m\u001b[47m\u001b[30m\u001b[47m`show_col_types = FALSE`\u001b[47m\u001b[30m\u001b[49m\u001b[39m to quiet this message.\n",
      "\n"
     ]
    },
    {
     "data": {
      "text/html": [
       "<table class=\"dataframe\">\n",
       "<caption>A tibble: 6 × 10</caption>\n",
       "<thead>\n",
       "\t<tr><th scope=col>TYPE</th><th scope=col>YEAR</th><th scope=col>MONTH</th><th scope=col>DAY</th><th scope=col>HOUR</th><th scope=col>MINUTE</th><th scope=col>HUNDRED_BLOCK</th><th scope=col>NEIGHBOURHOOD</th><th scope=col>X</th><th scope=col>Y</th></tr>\n",
       "\t<tr><th scope=col>&lt;chr&gt;</th><th scope=col>&lt;dbl&gt;</th><th scope=col>&lt;dbl&gt;</th><th scope=col>&lt;dbl&gt;</th><th scope=col>&lt;dbl&gt;</th><th scope=col>&lt;dbl&gt;</th><th scope=col>&lt;chr&gt;</th><th scope=col>&lt;chr&gt;</th><th scope=col>&lt;dbl&gt;</th><th scope=col>&lt;dbl&gt;</th></tr>\n",
       "</thead>\n",
       "<tbody>\n",
       "\t<tr><td>Theft of Vehicle</td><td>2020</td><td> 4</td><td>19</td><td>21</td><td>30</td><td>29XX SLOCAN ST  </td><td>Renfrew-Collingwood      </td><td>496397.5</td><td>5456123</td></tr>\n",
       "\t<tr><td>Theft of Vehicle</td><td>2020</td><td> 2</td><td>21</td><td> 1</td><td>43</td><td>29XX VENABLES ST</td><td>Hastings-Sunrise         </td><td>496801.2</td><td>5458182</td></tr>\n",
       "\t<tr><td>Theft of Vehicle</td><td>2020</td><td> 2</td><td>11</td><td> 1</td><td>30</td><td>29XX VIRTUAL WAY</td><td>Renfrew-Collingwood      </td><td>497011.9</td><td>5456474</td></tr>\n",
       "\t<tr><td>Theft of Vehicle</td><td>2020</td><td> 5</td><td>16</td><td>22</td><td> 0</td><td>29XX W 10TH AVE </td><td>Kitsilano                </td><td>487613.2</td><td>5456729</td></tr>\n",
       "\t<tr><td>Theft of Vehicle</td><td>2020</td><td> 1</td><td> 1</td><td>12</td><td> 0</td><td>29XX WOODLAND DR</td><td>Kensington-Cedar Cottage </td><td>494641.9</td><td>5456214</td></tr>\n",
       "\t<tr><td>Theft of Vehicle</td><td>2020</td><td>11</td><td>22</td><td> 0</td><td>37</td><td>2X E CORDOVA ST </td><td>Central Business District</td><td>492453.1</td><td>5458847</td></tr>\n",
       "</tbody>\n",
       "</table>\n"
      ],
      "text/latex": [
       "A tibble: 6 × 10\n",
       "\\begin{tabular}{llllllllll}\n",
       " TYPE & YEAR & MONTH & DAY & HOUR & MINUTE & HUNDRED\\_BLOCK & NEIGHBOURHOOD & X & Y\\\\\n",
       " <chr> & <dbl> & <dbl> & <dbl> & <dbl> & <dbl> & <chr> & <chr> & <dbl> & <dbl>\\\\\n",
       "\\hline\n",
       "\t Theft of Vehicle & 2020 &  4 & 19 & 21 & 30 & 29XX SLOCAN ST   & Renfrew-Collingwood       & 496397.5 & 5456123\\\\\n",
       "\t Theft of Vehicle & 2020 &  2 & 21 &  1 & 43 & 29XX VENABLES ST & Hastings-Sunrise          & 496801.2 & 5458182\\\\\n",
       "\t Theft of Vehicle & 2020 &  2 & 11 &  1 & 30 & 29XX VIRTUAL WAY & Renfrew-Collingwood       & 497011.9 & 5456474\\\\\n",
       "\t Theft of Vehicle & 2020 &  5 & 16 & 22 &  0 & 29XX W 10TH AVE  & Kitsilano                 & 487613.2 & 5456729\\\\\n",
       "\t Theft of Vehicle & 2020 &  1 &  1 & 12 &  0 & 29XX WOODLAND DR & Kensington-Cedar Cottage  & 494641.9 & 5456214\\\\\n",
       "\t Theft of Vehicle & 2020 & 11 & 22 &  0 & 37 & 2X E CORDOVA ST  & Central Business District & 492453.1 & 5458847\\\\\n",
       "\\end{tabular}\n"
      ],
      "text/markdown": [
       "\n",
       "A tibble: 6 × 10\n",
       "\n",
       "| TYPE &lt;chr&gt; | YEAR &lt;dbl&gt; | MONTH &lt;dbl&gt; | DAY &lt;dbl&gt; | HOUR &lt;dbl&gt; | MINUTE &lt;dbl&gt; | HUNDRED_BLOCK &lt;chr&gt; | NEIGHBOURHOOD &lt;chr&gt; | X &lt;dbl&gt; | Y &lt;dbl&gt; |\n",
       "|---|---|---|---|---|---|---|---|---|---|\n",
       "| Theft of Vehicle | 2020 |  4 | 19 | 21 | 30 | 29XX SLOCAN ST   | Renfrew-Collingwood       | 496397.5 | 5456123 |\n",
       "| Theft of Vehicle | 2020 |  2 | 21 |  1 | 43 | 29XX VENABLES ST | Hastings-Sunrise          | 496801.2 | 5458182 |\n",
       "| Theft of Vehicle | 2020 |  2 | 11 |  1 | 30 | 29XX VIRTUAL WAY | Renfrew-Collingwood       | 497011.9 | 5456474 |\n",
       "| Theft of Vehicle | 2020 |  5 | 16 | 22 |  0 | 29XX W 10TH AVE  | Kitsilano                 | 487613.2 | 5456729 |\n",
       "| Theft of Vehicle | 2020 |  1 |  1 | 12 |  0 | 29XX WOODLAND DR | Kensington-Cedar Cottage  | 494641.9 | 5456214 |\n",
       "| Theft of Vehicle | 2020 | 11 | 22 |  0 | 37 | 2X E CORDOVA ST  | Central Business District | 492453.1 | 5458847 |\n",
       "\n"
      ],
      "text/plain": [
       "  TYPE             YEAR MONTH DAY HOUR MINUTE HUNDRED_BLOCK   \n",
       "1 Theft of Vehicle 2020  4    19  21   30     29XX SLOCAN ST  \n",
       "2 Theft of Vehicle 2020  2    21   1   43     29XX VENABLES ST\n",
       "3 Theft of Vehicle 2020  2    11   1   30     29XX VIRTUAL WAY\n",
       "4 Theft of Vehicle 2020  5    16  22    0     29XX W 10TH AVE \n",
       "5 Theft of Vehicle 2020  1     1  12    0     29XX WOODLAND DR\n",
       "6 Theft of Vehicle 2020 11    22   0   37     2X E CORDOVA ST \n",
       "  NEIGHBOURHOOD             X        Y      \n",
       "1 Renfrew-Collingwood       496397.5 5456123\n",
       "2 Hastings-Sunrise          496801.2 5458182\n",
       "3 Renfrew-Collingwood       497011.9 5456474\n",
       "4 Kitsilano                 487613.2 5456729\n",
       "5 Kensington-Cedar Cottage  494641.9 5456214\n",
       "6 Central Business District 492453.1 5458847"
      ]
     },
     "metadata": {},
     "output_type": "display_data"
    }
   ],
   "source": [
    "crime <- read_csv(\"https://raw.githubusercontent.com/sasiburi/STAT201-Group37/main/crimedata_csv_AllNeighbourhoods_2020/crimedata_csv_AllNeighbourhoods_2020.csv\")\n",
    "head(crime)"
   ]
  },
  {
   "cell_type": "markdown",
   "id": "e6918b63",
   "metadata": {},
   "source": [
    "Now that we have loaded our data into R, we must create a new column to differentiate crimes that are violent and crimes that aren't violent."
   ]
  },
  {
   "cell_type": "code",
   "execution_count": 12,
   "id": "1cae9d45-c0ca-49f1-972d-598da4e8cd52",
   "metadata": {},
   "outputs": [
    {
     "data": {
      "text/html": [
       "<table class=\"dataframe\">\n",
       "<caption>A tibble: 6 × 11</caption>\n",
       "<thead>\n",
       "\t<tr><th scope=col>TYPE</th><th scope=col>YEAR</th><th scope=col>MONTH</th><th scope=col>DAY</th><th scope=col>HOUR</th><th scope=col>MINUTE</th><th scope=col>HUNDRED_BLOCK</th><th scope=col>NEIGHBOURHOOD</th><th scope=col>X</th><th scope=col>Y</th><th scope=col>Violent</th></tr>\n",
       "\t<tr><th scope=col>&lt;chr&gt;</th><th scope=col>&lt;dbl&gt;</th><th scope=col>&lt;dbl&gt;</th><th scope=col>&lt;dbl&gt;</th><th scope=col>&lt;dbl&gt;</th><th scope=col>&lt;dbl&gt;</th><th scope=col>&lt;chr&gt;</th><th scope=col>&lt;chr&gt;</th><th scope=col>&lt;dbl&gt;</th><th scope=col>&lt;dbl&gt;</th><th scope=col>&lt;lgl&gt;</th></tr>\n",
       "</thead>\n",
       "<tbody>\n",
       "\t<tr><td>Offence Against a Person</td><td>2020</td><td> 3</td><td>16</td><td>0</td><td>0</td><td>OFFSET TO PROTECT PRIVACY</td><td>Stanley Park</td><td>0</td><td>0</td><td>TRUE</td></tr>\n",
       "\t<tr><td>Offence Against a Person</td><td>2020</td><td> 8</td><td> 6</td><td>0</td><td>0</td><td>OFFSET TO PROTECT PRIVACY</td><td>Stanley Park</td><td>0</td><td>0</td><td>TRUE</td></tr>\n",
       "\t<tr><td>Offence Against a Person</td><td>2020</td><td>12</td><td>23</td><td>0</td><td>0</td><td>OFFSET TO PROTECT PRIVACY</td><td>Stanley Park</td><td>0</td><td>0</td><td>TRUE</td></tr>\n",
       "\t<tr><td>Offence Against a Person</td><td>2020</td><td> 9</td><td> 7</td><td>0</td><td>0</td><td>OFFSET TO PROTECT PRIVACY</td><td>Stanley Park</td><td>0</td><td>0</td><td>TRUE</td></tr>\n",
       "\t<tr><td>Offence Against a Person</td><td>2020</td><td> 9</td><td>11</td><td>0</td><td>0</td><td>OFFSET TO PROTECT PRIVACY</td><td>Stanley Park</td><td>0</td><td>0</td><td>TRUE</td></tr>\n",
       "\t<tr><td>Offence Against a Person</td><td>2020</td><td> 9</td><td>20</td><td>0</td><td>0</td><td>OFFSET TO PROTECT PRIVACY</td><td>Stanley Park</td><td>0</td><td>0</td><td>TRUE</td></tr>\n",
       "</tbody>\n",
       "</table>\n"
      ],
      "text/latex": [
       "A tibble: 6 × 11\n",
       "\\begin{tabular}{lllllllllll}\n",
       " TYPE & YEAR & MONTH & DAY & HOUR & MINUTE & HUNDRED\\_BLOCK & NEIGHBOURHOOD & X & Y & Violent\\\\\n",
       " <chr> & <dbl> & <dbl> & <dbl> & <dbl> & <dbl> & <chr> & <chr> & <dbl> & <dbl> & <lgl>\\\\\n",
       "\\hline\n",
       "\t Offence Against a Person & 2020 &  3 & 16 & 0 & 0 & OFFSET TO PROTECT PRIVACY & Stanley Park & 0 & 0 & TRUE\\\\\n",
       "\t Offence Against a Person & 2020 &  8 &  6 & 0 & 0 & OFFSET TO PROTECT PRIVACY & Stanley Park & 0 & 0 & TRUE\\\\\n",
       "\t Offence Against a Person & 2020 & 12 & 23 & 0 & 0 & OFFSET TO PROTECT PRIVACY & Stanley Park & 0 & 0 & TRUE\\\\\n",
       "\t Offence Against a Person & 2020 &  9 &  7 & 0 & 0 & OFFSET TO PROTECT PRIVACY & Stanley Park & 0 & 0 & TRUE\\\\\n",
       "\t Offence Against a Person & 2020 &  9 & 11 & 0 & 0 & OFFSET TO PROTECT PRIVACY & Stanley Park & 0 & 0 & TRUE\\\\\n",
       "\t Offence Against a Person & 2020 &  9 & 20 & 0 & 0 & OFFSET TO PROTECT PRIVACY & Stanley Park & 0 & 0 & TRUE\\\\\n",
       "\\end{tabular}\n"
      ],
      "text/markdown": [
       "\n",
       "A tibble: 6 × 11\n",
       "\n",
       "| TYPE &lt;chr&gt; | YEAR &lt;dbl&gt; | MONTH &lt;dbl&gt; | DAY &lt;dbl&gt; | HOUR &lt;dbl&gt; | MINUTE &lt;dbl&gt; | HUNDRED_BLOCK &lt;chr&gt; | NEIGHBOURHOOD &lt;chr&gt; | X &lt;dbl&gt; | Y &lt;dbl&gt; | Violent &lt;lgl&gt; |\n",
       "|---|---|---|---|---|---|---|---|---|---|---|\n",
       "| Offence Against a Person | 2020 |  3 | 16 | 0 | 0 | OFFSET TO PROTECT PRIVACY | Stanley Park | 0 | 0 | TRUE |\n",
       "| Offence Against a Person | 2020 |  8 |  6 | 0 | 0 | OFFSET TO PROTECT PRIVACY | Stanley Park | 0 | 0 | TRUE |\n",
       "| Offence Against a Person | 2020 | 12 | 23 | 0 | 0 | OFFSET TO PROTECT PRIVACY | Stanley Park | 0 | 0 | TRUE |\n",
       "| Offence Against a Person | 2020 |  9 |  7 | 0 | 0 | OFFSET TO PROTECT PRIVACY | Stanley Park | 0 | 0 | TRUE |\n",
       "| Offence Against a Person | 2020 |  9 | 11 | 0 | 0 | OFFSET TO PROTECT PRIVACY | Stanley Park | 0 | 0 | TRUE |\n",
       "| Offence Against a Person | 2020 |  9 | 20 | 0 | 0 | OFFSET TO PROTECT PRIVACY | Stanley Park | 0 | 0 | TRUE |\n",
       "\n"
      ],
      "text/plain": [
       "  TYPE                     YEAR MONTH DAY HOUR MINUTE HUNDRED_BLOCK            \n",
       "1 Offence Against a Person 2020  3    16  0    0      OFFSET TO PROTECT PRIVACY\n",
       "2 Offence Against a Person 2020  8     6  0    0      OFFSET TO PROTECT PRIVACY\n",
       "3 Offence Against a Person 2020 12    23  0    0      OFFSET TO PROTECT PRIVACY\n",
       "4 Offence Against a Person 2020  9     7  0    0      OFFSET TO PROTECT PRIVACY\n",
       "5 Offence Against a Person 2020  9    11  0    0      OFFSET TO PROTECT PRIVACY\n",
       "6 Offence Against a Person 2020  9    20  0    0      OFFSET TO PROTECT PRIVACY\n",
       "  NEIGHBOURHOOD X Y Violent\n",
       "1 Stanley Park  0 0 TRUE   \n",
       "2 Stanley Park  0 0 TRUE   \n",
       "3 Stanley Park  0 0 TRUE   \n",
       "4 Stanley Park  0 0 TRUE   \n",
       "5 Stanley Park  0 0 TRUE   \n",
       "6 Stanley Park  0 0 TRUE   "
      ]
     },
     "metadata": {},
     "output_type": "display_data"
    }
   ],
   "source": [
    "violance_data <- crime %>%\n",
    "                 filter(TYPE == \"Offence Against a Person\"| TYPE == \"Assaults Against Police\") %>%\n",
    "                 mutate(Violent = TRUE)\n",
    "              \n",
    "nonviolance_data2 <- crime %>%\n",
    "                     filter(TYPE != \"Offence Against a Person\" & TYPE != \"Assaults Against Police\") %>%\n",
    "                     mutate(Violent = FALSE)\n",
    "\n",
    "\n",
    "\n",
    "crime_data <- rbind(violance_data, nonviolance_data2)\n",
    "head(crime_data)"
   ]
  },
  {
   "cell_type": "markdown",
   "id": "089d394c",
   "metadata": {},
   "source": [
    "Now that we have created a new column to sort out whether a crime is violent or not, our first course of action is to find what proportion of crimes in vancouver are violent."
   ]
  },
  {
   "cell_type": "code",
   "execution_count": 13,
   "id": "2554468f-9d81-4092-8a5e-cf777e398975",
   "metadata": {},
   "outputs": [
    {
     "data": {
      "text/html": [
       "<table class=\"dataframe\">\n",
       "<caption>A tibble: 1 × 1</caption>\n",
       "<thead>\n",
       "\t<tr><th scope=col>violent_proportion</th></tr>\n",
       "\t<tr><th scope=col>&lt;dbl&gt;</th></tr>\n",
       "</thead>\n",
       "<tbody>\n",
       "\t<tr><td>0.09924784</td></tr>\n",
       "</tbody>\n",
       "</table>\n"
      ],
      "text/latex": [
       "A tibble: 1 × 1\n",
       "\\begin{tabular}{l}\n",
       " violent\\_proportion\\\\\n",
       " <dbl>\\\\\n",
       "\\hline\n",
       "\t 0.09924784\\\\\n",
       "\\end{tabular}\n"
      ],
      "text/markdown": [
       "\n",
       "A tibble: 1 × 1\n",
       "\n",
       "| violent_proportion &lt;dbl&gt; |\n",
       "|---|\n",
       "| 0.09924784 |\n",
       "\n"
      ],
      "text/plain": [
       "  violent_proportion\n",
       "1 0.09924784        "
      ]
     },
     "metadata": {},
     "output_type": "display_data"
    }
   ],
   "source": [
    "prop_of_violent_crimes_van <- crime_data %>%\n",
    "    summarise(violent_proportion= sum(Violent==\"TRUE\")/37492)\n",
    "prop_of_violent_crimes_van"
   ]
  },
  {
   "cell_type": "markdown",
   "id": "28f673e2",
   "metadata": {},
   "source": [
    "Our findings lead us to believe that roughly 10% of crimes committed in the city of Vancouver are Violent crimes."
   ]
  },
  {
   "cell_type": "markdown",
   "id": "0ba39a42",
   "metadata": {},
   "source": [
    "Our next course of action is to filter the crime data of vancouver to its respective neighbourhoods so we can ultimately find the standard deviation of violent crimes amongst the neighborhoods of vancouver."
   ]
  },
  {
   "cell_type": "code",
   "execution_count": 14,
   "id": "41729bd4",
   "metadata": {},
   "outputs": [],
   "source": [
    "crime_data <- select(crime_data, NEIGHBOURHOOD, Violent,)\n",
    "arbutus_ridge <- filter(crime_data, NEIGHBOURHOOD == \"Arbutus Ridge\")\n",
    "central_business_district <- filter(crime_data, NEIGHBOURHOOD == \"Central Business District\")\n",
    "dunbar_southlands <- filter(crime_data, NEIGHBOURHOOD == \"Dunbar-Southlands\")\n",
    "fairview <- filter(crime_data, NEIGHBOURHOOD == \"Fairview\")\n",
    "grandview_woodland <- filter(crime_data, NEIGHBOURHOOD == \"Grandview-Woodland\")\n",
    "hastings_sunrise <- filter(crime_data, NEIGHBOURHOOD == \"Hastings-Sunrise\")\n",
    "kensington_cedar_cottage <- filter(crime_data, NEIGHBOURHOOD == \"Kensington-Cedar Cottage\")\n",
    "kerrisdale <- filter(crime_data, NEIGHBOURHOOD == \"Kerrisdale\")\n",
    "killarney <- filter(crime_data, NEIGHBOURHOOD == \"Killarney\")\n",
    "kitsilano <- filter(crime_data, NEIGHBOURHOOD == \"Kitsilano\")\n",
    "marpole <- filter(crime_data, NEIGHBOURHOOD == \"Marpole\")\n",
    "mount_pleasant <- filter(crime_data, NEIGHBOURHOOD == \"Mount Pleasant\")\n",
    "musqueam <- filter(crime_data, NEIGHBOURHOOD == \"Musqueam\")\n",
    "oakridge <- filter(crime_data, NEIGHBOURHOOD == \"Oakridge\")\n",
    "renfrew_collingwood <- filter(crime_data, NEIGHBOURHOOD == \"Renfrew-Collingwood\")\n",
    "riley_park <- filter(crime_data, NEIGHBOURHOOD == \"Riley Park\")\n",
    "shaughnessy <- filter(crime_data, NEIGHBOURHOOD == \"Shaughnessy\")\n",
    "south_cambie <- filter(crime_data, NEIGHBOURHOOD == \"South Cambie\")\n",
    "stanley_park <- filter(crime_data, NEIGHBOURHOOD == \"Stanley Park\")\n",
    "strathcona <- filter(crime_data, NEIGHBOURHOOD == \"Strathcona\")\n",
    "sunset <- filter(crime_data, NEIGHBOURHOOD == \"Sunset\")\n",
    "victoria_fraserview <- filter(crime_data, NEIGHBOURHOOD == \"Victoria-Fraserview\")\n",
    "west_end <- filter(crime_data, NEIGHBOURHOOD == \"West End\")\n",
    "west_point_grey <- filter(crime_data, NEIGHBOURHOOD == \"West Point Grey\")\n",
    "# head(arbutus_ridge)\n",
    "# head(central_business_district)\n",
    "# head(dunbar_southlands)\n",
    "# head(fairview)\n",
    "# head(west_point_grey)"
   ]
  },
  {
   "cell_type": "code",
   "execution_count": null,
   "id": "be174120",
   "metadata": {},
   "outputs": [],
   "source": []
  }
 ],
 "metadata": {
  "kernelspec": {
   "display_name": "R",
   "language": "R",
   "name": "ir"
  },
  "language_info": {
   "codemirror_mode": "r",
   "file_extension": ".r",
   "mimetype": "text/x-r-source",
   "name": "R",
   "pygments_lexer": "r",
   "version": "4.1.2"
  }
 },
 "nbformat": 4,
 "nbformat_minor": 5
}
